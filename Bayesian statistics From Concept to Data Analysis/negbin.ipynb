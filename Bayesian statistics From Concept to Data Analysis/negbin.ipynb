{
 "cells": [
  {
   "cell_type": "code",
   "execution_count": 1,
   "id": "07fba3c1",
   "metadata": {},
   "outputs": [
    {
     "name": "stdout",
     "output_type": "stream",
     "text": [
      "package 'xlsx' successfully unpacked and MD5 sums checked\n",
      "\n",
      "The downloaded binary packages are in\n",
      "\tC:\\Users\\dziny\\AppData\\Local\\Temp\\RtmpCEpyi7\\downloaded_packages\n"
     ]
    }
   ],
   "source": [
    "install.packages(\"xlsx\")"
   ]
  },
  {
   "cell_type": "code",
   "execution_count": 3,
   "id": "bc5d6886",
   "metadata": {},
   "outputs": [
    {
     "ename": "ERROR",
     "evalue": "Error in read.xlsx(\"C:/Users/dziny/OneDrive/Desktop/bike data negbinomial/bikewithaddt.xlsx\"): could not find function \"read.xlsx\"\n",
     "output_type": "error",
     "traceback": [
      "Error in read.xlsx(\"C:/Users/dziny/OneDrive/Desktop/bike data negbinomial/bikewithaddt.xlsx\"): could not find function \"read.xlsx\"\nTraceback:\n"
     ]
    }
   ],
   "source": [
    "negbin<-read.xlsx(\"C:/Users/dziny/OneDrive/Desktop/bike data negbinomial/bikewithaddt.xlsx\")"
   ]
  },
  {
   "cell_type": "code",
   "execution_count": 4,
   "id": "62608535",
   "metadata": {},
   "outputs": [
    {
     "name": "stderr",
     "output_type": "stream",
     "text": [
      "also installing the dependencies 'cli', 'glue', 'utf8', 'ellipsis', 'rematch', 'fansi', 'lifecycle', 'magrittr', 'pillar', 'pkgconfig', 'rlang', 'vctrs', 'hms', 'prettyunits', 'R6', 'cellranger', 'tibble', 'cpp11', 'progress'\n",
      "\n"
     ]
    },
    {
     "name": "stdout",
     "output_type": "stream",
     "text": [
      "\n",
      "  There are binary versions available but the source versions are later:\n",
      "          binary source needs_compilation\n",
      "cli        2.5.0  3.4.1              TRUE\n",
      "glue       1.4.2  1.6.2              TRUE\n",
      "utf8       1.2.1  1.2.2              TRUE\n",
      "fansi      0.4.2  1.0.3              TRUE\n",
      "lifecycle  1.0.0  1.0.3             FALSE\n",
      "magrittr   2.0.1  2.0.3              TRUE\n",
      "pillar     1.6.0  1.8.1             FALSE\n",
      "rlang     0.4.11  1.0.6              TRUE\n",
      "vctrs      0.3.8  0.5.0              TRUE\n",
      "hms        1.0.0  1.1.2             FALSE\n",
      "R6         2.5.0  2.5.1             FALSE\n",
      "tibble     3.1.1  3.1.8              TRUE\n",
      "cpp11      0.2.7  0.4.3             FALSE\n",
      "readxl     1.3.1  1.4.1              TRUE\n",
      "\n",
      "  Binaries will be installed\n",
      "package 'cli' successfully unpacked and MD5 sums checked\n",
      "package 'glue' successfully unpacked and MD5 sums checked\n",
      "package 'utf8' successfully unpacked and MD5 sums checked\n",
      "package 'ellipsis' successfully unpacked and MD5 sums checked\n",
      "package 'rematch' successfully unpacked and MD5 sums checked\n",
      "package 'fansi' successfully unpacked and MD5 sums checked\n",
      "package 'magrittr' successfully unpacked and MD5 sums checked\n",
      "package 'pkgconfig' successfully unpacked and MD5 sums checked\n",
      "package 'rlang' successfully unpacked and MD5 sums checked\n",
      "package 'vctrs' successfully unpacked and MD5 sums checked\n",
      "package 'prettyunits' successfully unpacked and MD5 sums checked\n",
      "package 'cellranger' successfully unpacked and MD5 sums checked\n",
      "package 'tibble' successfully unpacked and MD5 sums checked\n",
      "package 'progress' successfully unpacked and MD5 sums checked\n",
      "package 'readxl' successfully unpacked and MD5 sums checked\n",
      "\n",
      "The downloaded binary packages are in\n",
      "\tC:\\Users\\dziny\\AppData\\Local\\Temp\\RtmpCEpyi7\\downloaded_packages\n"
     ]
    },
    {
     "name": "stderr",
     "output_type": "stream",
     "text": [
      "installing the source packages 'lifecycle', 'pillar', 'hms', 'R6', 'cpp11'\n",
      "\n",
      "Warning message in install.packages(\"readxl\"):\n",
      "\"installation of package 'lifecycle' had non-zero exit status\"Warning message in install.packages(\"readxl\"):\n",
      "\"installation of package 'pillar' had non-zero exit status\"Warning message in install.packages(\"readxl\"):\n",
      "\"installation of package 'hms' had non-zero exit status\""
     ]
    }
   ],
   "source": [
    "install.packages(\"readxl\")\n"
   ]
  },
  {
   "cell_type": "code",
   "execution_count": 9,
   "id": "ed63f1f9",
   "metadata": {},
   "outputs": [],
   "source": [
    "library(\"readxl\")"
   ]
  },
  {
   "cell_type": "code",
   "execution_count": 10,
   "id": "4e81974f",
   "metadata": {},
   "outputs": [
    {
     "ename": "ERROR",
     "evalue": "Error in loadNamespace(i, c(lib.loc, .libPaths()), versionCheck = vI[[i]]): there is no package called 'lifecycle'\n",
     "output_type": "error",
     "traceback": [
      "Error in loadNamespace(i, c(lib.loc, .libPaths()), versionCheck = vI[[i]]): there is no package called 'lifecycle'\nTraceback:\n",
      "1. data.frame(read_excel(\"C:/Users/dziny/OneDrive/Desktop/bike data negbinomial/bikewithaddt.xlsx\"))",
      "2. read_excel(\"C:/Users/dziny/OneDrive/Desktop/bike data negbinomial/bikewithaddt.xlsx\")",
      "3. read_excel_(path = path, sheet = sheet, range = range, col_names = col_names, \n .     col_types = col_types, na = na, trim_ws = trim_ws, skip = skip, \n .     n_max = n_max, guess_max = guess_max, progress = progress, \n .     .name_repair = .name_repair, format = format)",
      "4. set_readxl_names(read_fun(path = enc2native(normalizePath(path)), \n .     sheet_i = sheet, limits = limits, shim = shim, col_names = col_names, \n .     col_types = col_types, na = na, trim_ws = trim_ws, guess_max = guess_max, \n .     progress = progress), .name_repair = .name_repair)",
      "5. tibble::as_tibble",
      "6. getExportedValue(pkg, name)",
      "7. asNamespace(ns)",
      "8. getNamespace(ns)",
      "9. loadNamespace(name)",
      "10. namespaceImport(ns, loadNamespace(i, c(lib.loc, .libPaths()), \n  .     versionCheck = vI[[i]]), from = package)",
      "11. loadNamespace(i, c(lib.loc, .libPaths()), versionCheck = vI[[i]])",
      "12. withRestarts(stop(cond), retry_loadNamespace = function() NULL)",
      "13. withOneRestart(expr, restarts[[1L]])",
      "14. doWithOneRestart(return(expr), restart)"
     ]
    }
   ],
   "source": [
    "neg<-data.frame(read_excel(\"C:/Users/dziny/OneDrive/Desktop/bike data negbinomial/bikewithaddt.xlsx\"))"
   ]
  },
  {
   "cell_type": "code",
   "execution_count": null,
   "id": "a2757808",
   "metadata": {},
   "outputs": [],
   "source": []
  }
 ],
 "metadata": {
  "kernelspec": {
   "display_name": "R",
   "language": "R",
   "name": "ir"
  },
  "language_info": {
   "codemirror_mode": "r",
   "file_extension": ".r",
   "mimetype": "text/x-r-source",
   "name": "R",
   "pygments_lexer": "r",
   "version": "3.6.1"
  }
 },
 "nbformat": 4,
 "nbformat_minor": 5
}
